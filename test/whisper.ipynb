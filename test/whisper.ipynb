{
 "cells": [
  {
   "cell_type": "code",
   "execution_count": null,
   "metadata": {},
   "outputs": [],
   "source": [
    "import requests\n",
    "\n",
    "\n",
    "\n",
    "token = '5557434028:AAGNGR3Mlv7oWS-2TO3nUIwYysplhE34Wso'\n",
    "method = 'sendMessage'\n",
    "myuserid = -1001753354502\n",
    "text = 'Hello World'\n",
    "response = requests.post(\n",
    "    url='https://api.telegram.org/bot{0}/{1}'.format(token, method),\n",
    "    data={'chat_id': myuserid, 'text': text }\n",
    ").json()\n",
    "print(response[\"result\"][\"message_id\"])\n",
    "message_id = response[\"result\"][\"message_id\"]\n",
    "\n",
    "token = '5557434028:AAGNGR3Mlv7oWS-2TO3nUIwYysplhE34Wso'\n",
    "method = 'editMessageText'\n",
    "myuserid = -1001753354502\n",
    "text = 'Hello World 2'\n",
    "response = requests.post(\n",
    "    url='https://api.telegram.org/bot{0}/{1}'.format(token, method),\n",
    "    data={'chat_id': myuserid, 'message_id':message_id,  'text': text }\n",
    ").json()\n",
    "print(response)"
   ]
  },
  {
   "cell_type": "code",
   "execution_count": null,
   "metadata": {},
   "outputs": [],
   "source": [
    "# from tqdm.autonotebook import tqdm\n",
    "import time\n",
    "# for i in tqdm(range(20), desc = 'tqdm() Progress Bar'):\n",
    "#     time.sleep(0.5)\n",
    "\n",
    "token = '5557434028:AAGNGR3Mlv7oWS-2TO3nUIwYysplhE34Wso'\n",
    "chat_id = -1001753354502\n",
    "from tqdm.contrib.telegram import tqdm, trange\n",
    "for i in trange(10, token=token, chat_id=chat_id):\n",
    "    time.sleep(0.5)\n"
   ]
  },
  {
   "cell_type": "code",
   "execution_count": null,
   "metadata": {},
   "outputs": [],
   "source": [
    "!pip install git+https://github.com/openai/whisper.git \n",
    "!pip install requests\n",
    "!pip install pysrt"
   ]
  },
  {
   "cell_type": "code",
   "execution_count": 36,
   "metadata": {},
   "outputs": [
    {
     "name": "stdout",
     "output_type": "stream",
     "text": [
      "b'# romuluuus\\n\\nhttps://heroku.com/deploy\\n'\n",
      "b'# romuluuus\\n\\nhttps://heroku.com/deploy\\n'\n"
     ]
    }
   ],
   "source": [
    "# %pip install wget\n",
    "import requests\n",
    "URL = \"https://raw.githubusercontent.com/raiden076/romuluuus/master/README.md\"\n",
    "response = requests.get(url=URL)\n",
    "with open(\"C:/Users/arkap/Projects/job_transcription/test/r.md\", \"wb\") as f:\n",
    "    f.write(response.content)\n",
    "    print(response.content)\n",
    "!echo {response.content}"
   ]
  }
 ],
 "metadata": {
  "kernelspec": {
   "display_name": "Python 3",
   "language": "python",
   "name": "python3"
  },
  "language_info": {
   "codemirror_mode": {
    "name": "ipython",
    "version": 3
   },
   "file_extension": ".py",
   "mimetype": "text/x-python",
   "name": "python",
   "nbconvert_exporter": "python",
   "pygments_lexer": "ipython3",
   "version": "3.10.7"
  },
  "orig_nbformat": 4,
  "vscode": {
   "interpreter": {
    "hash": "369f2c481f4da34e4445cda3fffd2e751bd1c4d706f27375911949ba6bb62e1c"
   }
  }
 },
 "nbformat": 4,
 "nbformat_minor": 2
}
