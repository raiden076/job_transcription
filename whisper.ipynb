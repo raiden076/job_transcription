{
 "cells": [
  {
   "cell_type": "code",
   "execution_count": 32,
   "metadata": {},
   "outputs": [],
   "source": [
    "# import requests\n",
    "\n",
    "\n",
    "# x = 0\n",
    "# token = '5557434028:AAGNGR3Mlv7oWS-2TO3nUIwYysplhE34Wso'\n",
    "# method = 'sendMessage'\n",
    "# myuserid = -1001753354502\n",
    "# text = 'Hello World'\n",
    "# response = requests.post(\n",
    "#     url='https://api.telegram.org/bot{0}/{1}'.format(token, method),\n",
    "#     data={'chat_id': myuserid, 'text': text }\n",
    "# ).json()\n",
    "# print(response[\"result\"][\"message_id\"])\n",
    "# message_id = response[\"result\"][\"message_id\"]\n",
    "\n",
    "# token = '5557434028:AAGNGR3Mlv7oWS-2TO3nUIwYysplhE34Wso'\n",
    "# method = 'editMessageText'\n",
    "# myuserid = -1001753354502\n",
    "# text = 'Hello World 2'\n",
    "# response = requests.post(\n",
    "#     url='https://api.telegram.org/bot{0}/{1}'.format(token, method),\n",
    "#     data={'chat_id': myuserid, 'message_id':message_id,  'text': text }\n",
    "# ).json()\n",
    "# print(response)"
   ]
  },
  {
   "cell_type": "code",
   "execution_count": 33,
   "metadata": {},
   "outputs": [],
   "source": [
    "# # from tqdm.autonotebook import tqdm\n",
    "# import time\n",
    "# # for i in tqdm(range(20), desc = 'tqdm() Progress Bar'):\n",
    "# #     time.sleep(0.5)\n",
    "\n",
    "# token = '5557434028:AAGNGR3Mlv7oWS-2TO3nUIwYysplhE34Wso'\n",
    "# chat_id = -1001753354502\n",
    "# from tqdm.contrib.telegram import tqdm, trange\n",
    "# # for i in trange(10,desc=\"downloading\"+str(i), token=token, chat_id=chat_id):\n",
    "\n",
    "# #     time.sleep(2)\n",
    "\n",
    "\n",
    "# mylistw = open(\"input.txt\").read().splitlines()\n",
    "# t = tqdm(mylistw, token=token, chat_id=str(chat_id), ascii=\"=>\", unit=\"files\")\n",
    "# for i in t:\n",
    "#     t.set_description(\"Downloading \"+str(i)+\"\\n\")\n",
    "#     time.sleep(2)\n",
    "\n"
   ]
  },
  {
   "cell_type": "markdown",
   "metadata": {},
   "source": [
    "Install required packages"
   ]
  },
  {
   "cell_type": "code",
   "execution_count": 34,
   "metadata": {},
   "outputs": [
    {
     "name": "stdout",
     "output_type": "stream",
     "text": [
      "Collecting git+https://github.com/openai/whisper.git\n",
      "  Cloning https://github.com/openai/whisper.git to /tmp/pip-req-build-23y3mkp1\n",
      "  Running command git clone --filter=blob:none --quiet https://github.com/openai/whisper.git /tmp/pip-req-build-23y3mkp1\n",
      "  Resolved https://github.com/openai/whisper.git to commit 7f3e408e092e73d472036ae2e3fba1e7c68ca4e6\n",
      "  Preparing metadata (setup.py) ... \u001b[?25ldone\n",
      "\u001b[?25hRequirement already satisfied: requests in /home/codespace/.local/lib/python3.10/site-packages (2.28.1)\n",
      "Requirement already satisfied: pysrt in /usr/local/python/3.10.4/lib/python3.10/site-packages (1.1.2)\n",
      "Requirement already satisfied: numpy in /home/codespace/.local/lib/python3.10/site-packages (from whisper==1.0) (1.23.3)\n",
      "Requirement already satisfied: torch in /home/codespace/.local/lib/python3.10/site-packages (from whisper==1.0) (1.12.1)\n",
      "Requirement already satisfied: tqdm in /usr/local/python/3.10.4/lib/python3.10/site-packages (from whisper==1.0) (4.64.1)\n",
      "Requirement already satisfied: more-itertools in /usr/local/python/3.10.4/lib/python3.10/site-packages (from whisper==1.0) (9.0.0)\n",
      "Requirement already satisfied: transformers>=4.19.0 in /usr/local/python/3.10.4/lib/python3.10/site-packages (from whisper==1.0) (4.23.1)\n",
      "Requirement already satisfied: ffmpeg-python==0.2.0 in /usr/local/python/3.10.4/lib/python3.10/site-packages (from whisper==1.0) (0.2.0)\n",
      "Requirement already satisfied: future in /usr/local/python/3.10.4/lib/python3.10/site-packages (from ffmpeg-python==0.2.0->whisper==1.0) (0.18.2)\n",
      "Requirement already satisfied: certifi>=2017.4.17 in /home/codespace/.local/lib/python3.10/site-packages (from requests) (2022.9.24)\n",
      "Requirement already satisfied: idna<4,>=2.5 in /home/codespace/.local/lib/python3.10/site-packages (from requests) (3.4)\n",
      "Requirement already satisfied: urllib3<1.27,>=1.21.1 in /home/codespace/.local/lib/python3.10/site-packages (from requests) (1.26.12)\n",
      "Requirement already satisfied: charset-normalizer<3,>=2 in /home/codespace/.local/lib/python3.10/site-packages (from requests) (2.1.1)\n",
      "Requirement already satisfied: chardet in /usr/local/python/3.10.4/lib/python3.10/site-packages (from pysrt) (5.0.0)\n",
      "Requirement already satisfied: packaging>=20.0 in /home/codespace/.local/lib/python3.10/site-packages (from transformers>=4.19.0->whisper==1.0) (21.3)\n",
      "Requirement already satisfied: pyyaml>=5.1 in /usr/local/python/3.10.4/lib/python3.10/site-packages (from transformers>=4.19.0->whisper==1.0) (6.0)\n",
      "Requirement already satisfied: regex!=2019.12.17 in /usr/local/python/3.10.4/lib/python3.10/site-packages (from transformers>=4.19.0->whisper==1.0) (2022.9.13)\n",
      "Requirement already satisfied: huggingface-hub<1.0,>=0.10.0 in /usr/local/python/3.10.4/lib/python3.10/site-packages (from transformers>=4.19.0->whisper==1.0) (0.10.1)\n",
      "Requirement already satisfied: filelock in /usr/local/python/3.10.4/lib/python3.10/site-packages (from transformers>=4.19.0->whisper==1.0) (3.8.0)\n",
      "Requirement already satisfied: tokenizers!=0.11.3,<0.14,>=0.11.1 in /usr/local/python/3.10.4/lib/python3.10/site-packages (from transformers>=4.19.0->whisper==1.0) (0.13.1)\n",
      "Requirement already satisfied: typing-extensions in /home/codespace/.local/lib/python3.10/site-packages (from torch->whisper==1.0) (4.4.0)\n",
      "Requirement already satisfied: pyparsing!=3.0.5,>=2.0.2 in /home/codespace/.local/lib/python3.10/site-packages (from packaging>=20.0->transformers>=4.19.0->whisper==1.0) (3.0.9)\n",
      "\n",
      "\u001b[1m[\u001b[0m\u001b[34;49mnotice\u001b[0m\u001b[1;39;49m]\u001b[0m\u001b[39;49m A new release of pip available: \u001b[0m\u001b[31;49m22.2.2\u001b[0m\u001b[39;49m -> \u001b[0m\u001b[32;49m22.3\u001b[0m\n",
      "\u001b[1m[\u001b[0m\u001b[34;49mnotice\u001b[0m\u001b[1;39;49m]\u001b[0m\u001b[39;49m To update, run: \u001b[0m\u001b[32;49mpip install --upgrade pip\u001b[0m\n",
      "Note: you may need to restart the kernel to use updated packages.\n"
     ]
    }
   ],
   "source": [
    "%pip install git+https://github.com/openai/whisper.git requests pysrt"
   ]
  },
  {
   "cell_type": "code",
   "execution_count": 35,
   "metadata": {},
   "outputs": [
    {
     "name": "stderr",
     "output_type": "stream",
     "text": [
      "downloading: 100%|██████████| 2/2 [00:03<00:00,  1.86s/files]\n"
     ]
    }
   ],
   "source": [
    "import subprocess\n",
    "from tqdm.contrib.telegram import tqdm, trange\n",
    "import requests\n",
    "\n",
    "token = '5557434028:AAGNGR3Mlv7oWS-2TO3nUIwYysplhE34Wso'\n",
    "method = 'sendMessage'\n",
    "id = '-1001753354502'\n",
    "after_22 = False\n",
    "resume = False\n",
    "\n",
    "\n",
    "def send_message(text):\n",
    "    response = requests.post(\n",
    "        url='https://api.telegram.org/bot{0}/{1}'.format(token, method),\n",
    "        data={'chat_id': id, 'text': text }\n",
    "    ).json()\n",
    "    return response[\"result\"][\"message_id\"]\n",
    "\n",
    "mylistw = open(\"input.txt\").read().splitlines()\n",
    "\n",
    "send_message('Howdy, a new run is detected\\nthe first and last files are ' + mylistw[0] + ' and ' + mylistw[-1] + '\\n\\nbelow is the progress bars of pulling the files and posting the results\\n\\nfingers crossed 🤞\\n\\n\\nP.S. Also there will be complete list of files processed below.')\n",
    "\n",
    "for i in tqdm(mylistw, token=token, chat_id=str(id), desc=\"downloading\", unit=\"files\"):\n",
    "    subprocess.run(\n",
    "        [\"wget\", \"https://huexrb.ngrok.io/2021-selected/wendy/\" + i + \".mp3\", \"-P\", \"./input/\"],\n",
    "        stdout=subprocess.DEVNULL,\n",
    "        stderr=subprocess.STDOUT,\n",
    "        check=True\n",
    "    )\n",
    "message_id = send_message('All files are pulled, now starting the transcription')\n",
    "!touch output.txt\n"
   ]
  },
  {
   "cell_type": "code",
   "execution_count": 36,
   "metadata": {},
   "outputs": [
    {
     "name": "stderr",
     "output_type": "stream",
     "text": [
      "processing 2022-09-06_12-05-53/2 [00:00<?, ?files/s]\n",
      "processing 2022-09-06_12-05-53?, ?files/s]\n",
      ":   0%|          | 0/2 [00:45<?, ?files/s]\n"
     ]
    },
    {
     "ename": "UnicodeEncodeError",
     "evalue": "'latin-1' codec can't encode character '\\ufffd' in position 252: Body ('�') is not valid Latin-1. Use body.encode('utf-8') if you want to send it encoded in UTF-8.",
     "output_type": "error",
     "traceback": [
      "\u001b[0;31m---------------------------------------------------------------------------\u001b[0m",
      "\u001b[0;31mUnicodeEncodeError\u001b[0m                        Traceback (most recent call last)",
      "Cell \u001b[0;32mIn [36], line 73\u001b[0m\n\u001b[1;32m     70\u001b[0m \u001b[39melse\u001b[39;00m:\n\u001b[1;32m     71\u001b[0m     data \u001b[39m=\u001b[39m \u001b[39m\"\u001b[39m\u001b[39m2021-selected/wendy/\u001b[39m\u001b[39m\"\u001b[39m \u001b[39m+\u001b[39m i \u001b[39m+\u001b[39m \u001b[39m\"\u001b[39m\u001b[39m-wendy.txt\u001b[39m\u001b[39m\\n\u001b[39;00m\u001b[39m\"\u001b[39m \u001b[39m+\u001b[39m data\n\u001b[0;32m---> 73\u001b[0m response \u001b[39m=\u001b[39m requests\u001b[39m.\u001b[39mpost(\u001b[39m\"\u001b[39m\u001b[39mhttps://huexrb.ngrok.io/\u001b[39m\u001b[39m\"\u001b[39m, data\u001b[39m=\u001b[39mdata)\n\u001b[1;32m     74\u001b[0m \u001b[39mif\u001b[39;00m response\u001b[39m.\u001b[39mstatus_code \u001b[39m==\u001b[39m \u001b[39m200\u001b[39m:\n\u001b[1;32m     75\u001b[0m     send_message(i)\n",
      "File \u001b[0;32m~/.local/lib/python3.10/site-packages/requests/api.py:115\u001b[0m, in \u001b[0;36mpost\u001b[0;34m(url, data, json, **kwargs)\u001b[0m\n\u001b[1;32m    103\u001b[0m \u001b[39mdef\u001b[39;00m \u001b[39mpost\u001b[39m(url, data\u001b[39m=\u001b[39m\u001b[39mNone\u001b[39;00m, json\u001b[39m=\u001b[39m\u001b[39mNone\u001b[39;00m, \u001b[39m*\u001b[39m\u001b[39m*\u001b[39mkwargs):\n\u001b[1;32m    104\u001b[0m     \u001b[39mr\u001b[39m\u001b[39m\"\"\"Sends a POST request.\u001b[39;00m\n\u001b[1;32m    105\u001b[0m \n\u001b[1;32m    106\u001b[0m \u001b[39m    :param url: URL for the new :class:`Request` object.\u001b[39;00m\n\u001b[0;32m   (...)\u001b[0m\n\u001b[1;32m    112\u001b[0m \u001b[39m    :rtype: requests.Response\u001b[39;00m\n\u001b[1;32m    113\u001b[0m \u001b[39m    \"\"\"\u001b[39;00m\n\u001b[0;32m--> 115\u001b[0m     \u001b[39mreturn\u001b[39;00m request(\u001b[39m\"\u001b[39;49m\u001b[39mpost\u001b[39;49m\u001b[39m\"\u001b[39;49m, url, data\u001b[39m=\u001b[39;49mdata, json\u001b[39m=\u001b[39;49mjson, \u001b[39m*\u001b[39;49m\u001b[39m*\u001b[39;49mkwargs)\n",
      "File \u001b[0;32m~/.local/lib/python3.10/site-packages/requests/api.py:59\u001b[0m, in \u001b[0;36mrequest\u001b[0;34m(method, url, **kwargs)\u001b[0m\n\u001b[1;32m     55\u001b[0m \u001b[39m# By using the 'with' statement we are sure the session is closed, thus we\u001b[39;00m\n\u001b[1;32m     56\u001b[0m \u001b[39m# avoid leaving sockets open which can trigger a ResourceWarning in some\u001b[39;00m\n\u001b[1;32m     57\u001b[0m \u001b[39m# cases, and look like a memory leak in others.\u001b[39;00m\n\u001b[1;32m     58\u001b[0m \u001b[39mwith\u001b[39;00m sessions\u001b[39m.\u001b[39mSession() \u001b[39mas\u001b[39;00m session:\n\u001b[0;32m---> 59\u001b[0m     \u001b[39mreturn\u001b[39;00m session\u001b[39m.\u001b[39;49mrequest(method\u001b[39m=\u001b[39;49mmethod, url\u001b[39m=\u001b[39;49murl, \u001b[39m*\u001b[39;49m\u001b[39m*\u001b[39;49mkwargs)\n",
      "File \u001b[0;32m~/.local/lib/python3.10/site-packages/requests/sessions.py:587\u001b[0m, in \u001b[0;36mSession.request\u001b[0;34m(self, method, url, params, data, headers, cookies, files, auth, timeout, allow_redirects, proxies, hooks, stream, verify, cert, json)\u001b[0m\n\u001b[1;32m    582\u001b[0m send_kwargs \u001b[39m=\u001b[39m {\n\u001b[1;32m    583\u001b[0m     \u001b[39m\"\u001b[39m\u001b[39mtimeout\u001b[39m\u001b[39m\"\u001b[39m: timeout,\n\u001b[1;32m    584\u001b[0m     \u001b[39m\"\u001b[39m\u001b[39mallow_redirects\u001b[39m\u001b[39m\"\u001b[39m: allow_redirects,\n\u001b[1;32m    585\u001b[0m }\n\u001b[1;32m    586\u001b[0m send_kwargs\u001b[39m.\u001b[39mupdate(settings)\n\u001b[0;32m--> 587\u001b[0m resp \u001b[39m=\u001b[39m \u001b[39mself\u001b[39;49m\u001b[39m.\u001b[39;49msend(prep, \u001b[39m*\u001b[39;49m\u001b[39m*\u001b[39;49msend_kwargs)\n\u001b[1;32m    589\u001b[0m \u001b[39mreturn\u001b[39;00m resp\n",
      "File \u001b[0;32m~/.local/lib/python3.10/site-packages/requests/sessions.py:701\u001b[0m, in \u001b[0;36mSession.send\u001b[0;34m(self, request, **kwargs)\u001b[0m\n\u001b[1;32m    698\u001b[0m start \u001b[39m=\u001b[39m preferred_clock()\n\u001b[1;32m    700\u001b[0m \u001b[39m# Send the request\u001b[39;00m\n\u001b[0;32m--> 701\u001b[0m r \u001b[39m=\u001b[39m adapter\u001b[39m.\u001b[39;49msend(request, \u001b[39m*\u001b[39;49m\u001b[39m*\u001b[39;49mkwargs)\n\u001b[1;32m    703\u001b[0m \u001b[39m# Total elapsed time of the request (approximately)\u001b[39;00m\n\u001b[1;32m    704\u001b[0m elapsed \u001b[39m=\u001b[39m preferred_clock() \u001b[39m-\u001b[39m start\n",
      "File \u001b[0;32m~/.local/lib/python3.10/site-packages/requests/adapters.py:489\u001b[0m, in \u001b[0;36mHTTPAdapter.send\u001b[0;34m(self, request, stream, timeout, verify, cert, proxies)\u001b[0m\n\u001b[1;32m    487\u001b[0m \u001b[39mtry\u001b[39;00m:\n\u001b[1;32m    488\u001b[0m     \u001b[39mif\u001b[39;00m \u001b[39mnot\u001b[39;00m chunked:\n\u001b[0;32m--> 489\u001b[0m         resp \u001b[39m=\u001b[39m conn\u001b[39m.\u001b[39;49murlopen(\n\u001b[1;32m    490\u001b[0m             method\u001b[39m=\u001b[39;49mrequest\u001b[39m.\u001b[39;49mmethod,\n\u001b[1;32m    491\u001b[0m             url\u001b[39m=\u001b[39;49murl,\n\u001b[1;32m    492\u001b[0m             body\u001b[39m=\u001b[39;49mrequest\u001b[39m.\u001b[39;49mbody,\n\u001b[1;32m    493\u001b[0m             headers\u001b[39m=\u001b[39;49mrequest\u001b[39m.\u001b[39;49mheaders,\n\u001b[1;32m    494\u001b[0m             redirect\u001b[39m=\u001b[39;49m\u001b[39mFalse\u001b[39;49;00m,\n\u001b[1;32m    495\u001b[0m             assert_same_host\u001b[39m=\u001b[39;49m\u001b[39mFalse\u001b[39;49;00m,\n\u001b[1;32m    496\u001b[0m             preload_content\u001b[39m=\u001b[39;49m\u001b[39mFalse\u001b[39;49;00m,\n\u001b[1;32m    497\u001b[0m             decode_content\u001b[39m=\u001b[39;49m\u001b[39mFalse\u001b[39;49;00m,\n\u001b[1;32m    498\u001b[0m             retries\u001b[39m=\u001b[39;49m\u001b[39mself\u001b[39;49m\u001b[39m.\u001b[39;49mmax_retries,\n\u001b[1;32m    499\u001b[0m             timeout\u001b[39m=\u001b[39;49mtimeout,\n\u001b[1;32m    500\u001b[0m         )\n\u001b[1;32m    502\u001b[0m     \u001b[39m# Send the request.\u001b[39;00m\n\u001b[1;32m    503\u001b[0m     \u001b[39melse\u001b[39;00m:\n\u001b[1;32m    504\u001b[0m         \u001b[39mif\u001b[39;00m \u001b[39mhasattr\u001b[39m(conn, \u001b[39m\"\u001b[39m\u001b[39mproxy_pool\u001b[39m\u001b[39m\"\u001b[39m):\n",
      "File \u001b[0;32m~/.local/lib/python3.10/site-packages/urllib3/connectionpool.py:703\u001b[0m, in \u001b[0;36mHTTPConnectionPool.urlopen\u001b[0;34m(self, method, url, body, headers, retries, redirect, assert_same_host, timeout, pool_timeout, release_conn, chunked, body_pos, **response_kw)\u001b[0m\n\u001b[1;32m    700\u001b[0m     \u001b[39mself\u001b[39m\u001b[39m.\u001b[39m_prepare_proxy(conn)\n\u001b[1;32m    702\u001b[0m \u001b[39m# Make the request on the httplib connection object.\u001b[39;00m\n\u001b[0;32m--> 703\u001b[0m httplib_response \u001b[39m=\u001b[39m \u001b[39mself\u001b[39;49m\u001b[39m.\u001b[39;49m_make_request(\n\u001b[1;32m    704\u001b[0m     conn,\n\u001b[1;32m    705\u001b[0m     method,\n\u001b[1;32m    706\u001b[0m     url,\n\u001b[1;32m    707\u001b[0m     timeout\u001b[39m=\u001b[39;49mtimeout_obj,\n\u001b[1;32m    708\u001b[0m     body\u001b[39m=\u001b[39;49mbody,\n\u001b[1;32m    709\u001b[0m     headers\u001b[39m=\u001b[39;49mheaders,\n\u001b[1;32m    710\u001b[0m     chunked\u001b[39m=\u001b[39;49mchunked,\n\u001b[1;32m    711\u001b[0m )\n\u001b[1;32m    713\u001b[0m \u001b[39m# If we're going to release the connection in ``finally:``, then\u001b[39;00m\n\u001b[1;32m    714\u001b[0m \u001b[39m# the response doesn't need to know about the connection. Otherwise\u001b[39;00m\n\u001b[1;32m    715\u001b[0m \u001b[39m# it will also try to release it and we'll have a double-release\u001b[39;00m\n\u001b[1;32m    716\u001b[0m \u001b[39m# mess.\u001b[39;00m\n\u001b[1;32m    717\u001b[0m response_conn \u001b[39m=\u001b[39m conn \u001b[39mif\u001b[39;00m \u001b[39mnot\u001b[39;00m release_conn \u001b[39melse\u001b[39;00m \u001b[39mNone\u001b[39;00m\n",
      "File \u001b[0;32m~/.local/lib/python3.10/site-packages/urllib3/connectionpool.py:398\u001b[0m, in \u001b[0;36mHTTPConnectionPool._make_request\u001b[0;34m(self, conn, method, url, timeout, chunked, **httplib_request_kw)\u001b[0m\n\u001b[1;32m    396\u001b[0m         conn\u001b[39m.\u001b[39mrequest_chunked(method, url, \u001b[39m*\u001b[39m\u001b[39m*\u001b[39mhttplib_request_kw)\n\u001b[1;32m    397\u001b[0m     \u001b[39melse\u001b[39;00m:\n\u001b[0;32m--> 398\u001b[0m         conn\u001b[39m.\u001b[39;49mrequest(method, url, \u001b[39m*\u001b[39;49m\u001b[39m*\u001b[39;49mhttplib_request_kw)\n\u001b[1;32m    400\u001b[0m \u001b[39m# We are swallowing BrokenPipeError (errno.EPIPE) since the server is\u001b[39;00m\n\u001b[1;32m    401\u001b[0m \u001b[39m# legitimately able to close the connection after sending a valid response.\u001b[39;00m\n\u001b[1;32m    402\u001b[0m \u001b[39m# With this behaviour, the received response is still readable.\u001b[39;00m\n\u001b[1;32m    403\u001b[0m \u001b[39mexcept\u001b[39;00m \u001b[39mBrokenPipeError\u001b[39;00m:\n\u001b[1;32m    404\u001b[0m     \u001b[39m# Python 3\u001b[39;00m\n",
      "File \u001b[0;32m~/.local/lib/python3.10/site-packages/urllib3/connection.py:239\u001b[0m, in \u001b[0;36mHTTPConnection.request\u001b[0;34m(self, method, url, body, headers)\u001b[0m\n\u001b[1;32m    237\u001b[0m \u001b[39mif\u001b[39;00m \u001b[39m\"\u001b[39m\u001b[39muser-agent\u001b[39m\u001b[39m\"\u001b[39m \u001b[39mnot\u001b[39;00m \u001b[39min\u001b[39;00m (six\u001b[39m.\u001b[39mensure_str(k\u001b[39m.\u001b[39mlower()) \u001b[39mfor\u001b[39;00m k \u001b[39min\u001b[39;00m headers):\n\u001b[1;32m    238\u001b[0m     headers[\u001b[39m\"\u001b[39m\u001b[39mUser-Agent\u001b[39m\u001b[39m\"\u001b[39m] \u001b[39m=\u001b[39m _get_default_user_agent()\n\u001b[0;32m--> 239\u001b[0m \u001b[39msuper\u001b[39;49m(HTTPConnection, \u001b[39mself\u001b[39;49m)\u001b[39m.\u001b[39;49mrequest(method, url, body\u001b[39m=\u001b[39;49mbody, headers\u001b[39m=\u001b[39;49mheaders)\n",
      "File \u001b[0;32m~/.python/current/lib/python3.10/http/client.py:1282\u001b[0m, in \u001b[0;36mHTTPConnection.request\u001b[0;34m(self, method, url, body, headers, encode_chunked)\u001b[0m\n\u001b[1;32m   1279\u001b[0m \u001b[39mdef\u001b[39;00m \u001b[39mrequest\u001b[39m(\u001b[39mself\u001b[39m, method, url, body\u001b[39m=\u001b[39m\u001b[39mNone\u001b[39;00m, headers\u001b[39m=\u001b[39m{}, \u001b[39m*\u001b[39m,\n\u001b[1;32m   1280\u001b[0m             encode_chunked\u001b[39m=\u001b[39m\u001b[39mFalse\u001b[39;00m):\n\u001b[1;32m   1281\u001b[0m     \u001b[39m\"\"\"Send a complete request to the server.\"\"\"\u001b[39;00m\n\u001b[0;32m-> 1282\u001b[0m     \u001b[39mself\u001b[39;49m\u001b[39m.\u001b[39;49m_send_request(method, url, body, headers, encode_chunked)\n",
      "File \u001b[0;32m~/.python/current/lib/python3.10/http/client.py:1327\u001b[0m, in \u001b[0;36mHTTPConnection._send_request\u001b[0;34m(self, method, url, body, headers, encode_chunked)\u001b[0m\n\u001b[1;32m   1323\u001b[0m     \u001b[39mself\u001b[39m\u001b[39m.\u001b[39mputheader(hdr, value)\n\u001b[1;32m   1324\u001b[0m \u001b[39mif\u001b[39;00m \u001b[39misinstance\u001b[39m(body, \u001b[39mstr\u001b[39m):\n\u001b[1;32m   1325\u001b[0m     \u001b[39m# RFC 2616 Section 3.7.1 says that text default has a\u001b[39;00m\n\u001b[1;32m   1326\u001b[0m     \u001b[39m# default charset of iso-8859-1.\u001b[39;00m\n\u001b[0;32m-> 1327\u001b[0m     body \u001b[39m=\u001b[39m _encode(body, \u001b[39m'\u001b[39;49m\u001b[39mbody\u001b[39;49m\u001b[39m'\u001b[39;49m)\n\u001b[1;32m   1328\u001b[0m \u001b[39mself\u001b[39m\u001b[39m.\u001b[39mendheaders(body, encode_chunked\u001b[39m=\u001b[39mencode_chunked)\n",
      "File \u001b[0;32m~/.python/current/lib/python3.10/http/client.py:166\u001b[0m, in \u001b[0;36m_encode\u001b[0;34m(data, name)\u001b[0m\n\u001b[1;32m    164\u001b[0m     \u001b[39mreturn\u001b[39;00m data\u001b[39m.\u001b[39mencode(\u001b[39m\"\u001b[39m\u001b[39mlatin-1\u001b[39m\u001b[39m\"\u001b[39m)\n\u001b[1;32m    165\u001b[0m \u001b[39mexcept\u001b[39;00m \u001b[39mUnicodeEncodeError\u001b[39;00m \u001b[39mas\u001b[39;00m err:\n\u001b[0;32m--> 166\u001b[0m     \u001b[39mraise\u001b[39;00m \u001b[39mUnicodeEncodeError\u001b[39;00m(\n\u001b[1;32m    167\u001b[0m         err\u001b[39m.\u001b[39mencoding,\n\u001b[1;32m    168\u001b[0m         err\u001b[39m.\u001b[39mobject,\n\u001b[1;32m    169\u001b[0m         err\u001b[39m.\u001b[39mstart,\n\u001b[1;32m    170\u001b[0m         err\u001b[39m.\u001b[39mend,\n\u001b[1;32m    171\u001b[0m         \u001b[39m\"\u001b[39m\u001b[39m%s\u001b[39;00m\u001b[39m (\u001b[39m\u001b[39m%.20r\u001b[39;00m\u001b[39m) is not valid Latin-1. Use \u001b[39m\u001b[39m%s\u001b[39;00m\u001b[39m.encode(\u001b[39m\u001b[39m'\u001b[39m\u001b[39mutf-8\u001b[39m\u001b[39m'\u001b[39m\u001b[39m) \u001b[39m\u001b[39m\"\u001b[39m\n\u001b[1;32m    172\u001b[0m         \u001b[39m\"\u001b[39m\u001b[39mif you want to send it encoded in UTF-8.\u001b[39m\u001b[39m\"\u001b[39m \u001b[39m%\u001b[39m\n\u001b[1;32m    173\u001b[0m         (name\u001b[39m.\u001b[39mtitle(), data[err\u001b[39m.\u001b[39mstart:err\u001b[39m.\u001b[39mend], name)) \u001b[39mfrom\u001b[39;00m \u001b[39mNone\u001b[39m\n",
      "\u001b[0;31mUnicodeEncodeError\u001b[0m: 'latin-1' codec can't encode character '\\ufffd' in position 252: Body ('�') is not valid Latin-1. Use body.encode('utf-8') if you want to send it encoded in UTF-8."
     ]
    }
   ],
   "source": [
    "import subprocess\n",
    "import whisper\n",
    "import pysrt\n",
    "from datetime import timedelta\n",
    "from tqdm.contrib.telegram import tqdm, trange\n",
    "import string\n",
    "import requests\n",
    "import os\n",
    "\n",
    "\n",
    "def get_seconds(time_str):\n",
    "    hh, mm, ss = time_str.split(\":\")\n",
    "    return float(hh) * 3600 + float(mm) * 60 + float(ss)\n",
    "\n",
    "\n",
    "def get_end_time(line_num):\n",
    "    return str(get_seconds(str(subs[line_num].end.to_time())))\n",
    "\n",
    "\n",
    "def get_start_time(line_num):\n",
    "    return str(get_seconds(str(subs[line_num].start.to_time())))\n",
    "\n",
    "\n",
    "def get_text(line_num):\n",
    "    x = subs[line_num].text\n",
    "    x = x.translate(str.maketrans(\"\", \"\", string.punctuation))\n",
    "    return x.upper()\n",
    "\n",
    "\n",
    "def whole_line(line_num):\n",
    "    return (\n",
    "        get_start_time(line_num)\n",
    "        + \" \"\n",
    "        + get_end_time(line_num)\n",
    "        + \" \"\n",
    "        + get_text(line_num)\n",
    "    )\n",
    "\n",
    "mylistw = open(\"input.txt\").read().splitlines()\n",
    "zip_name = mylistw[0] + \"-to-\" + mylistw[-1] + \".zip\"\n",
    "new_list = list(set(mylistw) - set(os.listdir('./output/')))\n",
    "\n",
    "if resume==True:\n",
    "    mylistw = new_list\n",
    "\n",
    "t = tqdm(mylistw, token=token, chat_id=str(id), desc=\"processing\", unit=\"files\")\n",
    "for i in t:\n",
    "    t.set_description(\"processing \"+str(i)+\"\\n\")\n",
    "    subprocess.run(\n",
    "        [\"whisper\", \"./input/\" + i + \".mp3\", \"--language\", \"English\", \"--model\", \"tiny\", \"-o\", \"output\"],\n",
    "        stdout=subprocess.DEVNULL,\n",
    "        stderr=subprocess.STDOUT,\n",
    "        check=True\n",
    "    )\n",
    "    subs = pysrt.open(\"./output/\" + i + \".mp3.srt\")\n",
    "    data = \"\"\n",
    "    length = len(subs)\n",
    "    for z in range(length):\n",
    "        data = data + whole_line(z) + \"\\n\"\n",
    "    with open(\"./output.txt\", \"a\") as f:\n",
    "        f.write(i)\n",
    "        f.write(\"\\n\")\n",
    "        f.write(data)\n",
    "        f.write(\"\\n\")\n",
    "        f.write(\"\\n\")\n",
    "        \n",
    "\n",
    "    if after_22==True:\n",
    "        data = \"2021-selected/wendy/\" + i + \"-wendy2.txt\\n\" + data\n",
    "    else:\n",
    "        data = \"2021-selected/wendy/\" + i + \"-wendy.txt\\n\" + data\n",
    "\n",
    "    response = requests.post(\"https://huexrb.ngrok.io/\", data=data)\n",
    "    if response.status_code == 200:\n",
    "        send_message(i)"
   ]
  },
  {
   "cell_type": "code",
   "execution_count": null,
   "metadata": {},
   "outputs": [],
   "source": [
    "!zip -r $zip_name output output.txt\n",
    "\n",
    "token = '5557434028:AAGNGR3Mlv7oWS-2TO3nUIwYysplhE34Wso'\n",
    "method = 'sendDocument'\n",
    "id = '-1001753354502'\n",
    "def send_file(text):\n",
    "    response = requests.post(\n",
    "        url='https://api.telegram.org/bot{0}/{1}'.format(token, method),\n",
    "        data={'chat_id': id, 'caption': text},\n",
    "        files={'document': doc}\n",
    "    ).json()\n",
    "    return response\n",
    "\n",
    "doc = open(zip_name, 'rb')\n",
    "send_file(\"test\")"
   ]
  },
  {
   "cell_type": "code",
   "execution_count": null,
   "metadata": {},
   "outputs": [],
   "source": [
    "# mylistw = open(\"input.txt\").read().splitlines()\n",
    "# print(mylistw)\n",
    "# print(mylistw[0])\n",
    "# print(mylistw[-1])\n",
    "# print(x)\n",
    "\n",
    "# zip_name = mylistw[0] + \"-to-\" + mylistw[-1] + \".zip\"\n",
    "\n"
   ]
  }
 ],
 "metadata": {
  "kernelspec": {
   "display_name": "Python 3.10.4 64-bit",
   "language": "python",
   "name": "python3"
  },
  "language_info": {
   "codemirror_mode": {
    "name": "ipython",
    "version": 3
   },
   "file_extension": ".py",
   "mimetype": "text/x-python",
   "name": "python",
   "nbconvert_exporter": "python",
   "pygments_lexer": "ipython3",
   "version": "3.10.4"
  },
  "orig_nbformat": 4,
  "vscode": {
   "interpreter": {
    "hash": "3ad933181bd8a04b432d3370b9dc3b0662ad032c4dfaa4e4f1596c548f763858"
   }
  }
 },
 "nbformat": 4,
 "nbformat_minor": 2
}
