{
 "cells": [
  {
   "cell_type": "code",
   "execution_count": 2,
   "metadata": {},
   "outputs": [
    {
     "ename": "FileNotFoundError",
     "evalue": "[Errno 2] No such file or directory: 'missing/2022-09-21_06-58-02.mp3.srt'",
     "output_type": "error",
     "traceback": [
      "\u001b[1;31m---------------------------------------------------------------------------\u001b[0m",
      "\u001b[1;31mFileNotFoundError\u001b[0m                         Traceback (most recent call last)",
      "Cell \u001b[1;32mIn [2], line 39\u001b[0m\n\u001b[0;32m     37\u001b[0m mylist \u001b[39m=\u001b[39m \u001b[39mopen\u001b[39m(\u001b[39m\"\u001b[39m\u001b[39m./input.txt\u001b[39m\u001b[39m\"\u001b[39m)\u001b[39m.\u001b[39mread()\u001b[39m.\u001b[39msplitlines()\n\u001b[0;32m     38\u001b[0m \u001b[39mfor\u001b[39;00m z \u001b[39min\u001b[39;00m mylist:\n\u001b[1;32m---> 39\u001b[0m     subs \u001b[39m=\u001b[39m pysrt\u001b[39m.\u001b[39;49mopen(\u001b[39m\"\u001b[39;49m\u001b[39mmissing/\u001b[39;49m\u001b[39m\"\u001b[39;49m \u001b[39m+\u001b[39;49m z \u001b[39m+\u001b[39;49m \u001b[39m\"\u001b[39;49m\u001b[39m.mp3.srt\u001b[39;49m\u001b[39m\"\u001b[39;49m)\n\u001b[0;32m     40\u001b[0m     data \u001b[39m=\u001b[39m \u001b[39m\"\u001b[39m\u001b[39m\"\u001b[39m\n\u001b[0;32m     41\u001b[0m     length \u001b[39m=\u001b[39m \u001b[39mlen\u001b[39m(subs)\n",
      "File \u001b[1;32mc:\\Python310\\lib\\site-packages\\pysrt\\srtfile.py:151\u001b[0m, in \u001b[0;36mSubRipFile.open\u001b[1;34m(cls, path, encoding, error_handling)\u001b[0m\n\u001b[0;32m    143\u001b[0m \u001b[39m@classmethod\u001b[39m\n\u001b[0;32m    144\u001b[0m \u001b[39mdef\u001b[39;00m \u001b[39mopen\u001b[39m(\u001b[39mcls\u001b[39m, path\u001b[39m=\u001b[39m\u001b[39m'\u001b[39m\u001b[39m'\u001b[39m, encoding\u001b[39m=\u001b[39m\u001b[39mNone\u001b[39;00m, error_handling\u001b[39m=\u001b[39mERROR_PASS):\n\u001b[0;32m    145\u001b[0m     \u001b[39m\"\"\"\u001b[39;00m\n\u001b[0;32m    146\u001b[0m \u001b[39m    open([path, [encoding]])\u001b[39;00m\n\u001b[0;32m    147\u001b[0m \n\u001b[0;32m    148\u001b[0m \u001b[39m    If you do not provide any encoding, it can be detected if the file\u001b[39;00m\n\u001b[0;32m    149\u001b[0m \u001b[39m    contain a bit order mark, unless it is set to utf-8 as default.\u001b[39;00m\n\u001b[0;32m    150\u001b[0m \u001b[39m    \"\"\"\u001b[39;00m\n\u001b[1;32m--> 151\u001b[0m     source_file, encoding \u001b[39m=\u001b[39m \u001b[39mcls\u001b[39;49m\u001b[39m.\u001b[39;49m_open_unicode_file(path, claimed_encoding\u001b[39m=\u001b[39;49mencoding)\n\u001b[0;32m    152\u001b[0m     new_file \u001b[39m=\u001b[39m \u001b[39mcls\u001b[39m(path\u001b[39m=\u001b[39mpath, encoding\u001b[39m=\u001b[39mencoding)\n\u001b[0;32m    153\u001b[0m     new_file\u001b[39m.\u001b[39mread(source_file, error_handling\u001b[39m=\u001b[39merror_handling)\n",
      "File \u001b[1;32mc:\\Python310\\lib\\site-packages\\pysrt\\srtfile.py:292\u001b[0m, in \u001b[0;36mSubRipFile._open_unicode_file\u001b[1;34m(cls, path, claimed_encoding)\u001b[0m\n\u001b[0;32m    290\u001b[0m \u001b[39m@classmethod\u001b[39m\n\u001b[0;32m    291\u001b[0m \u001b[39mdef\u001b[39;00m \u001b[39m_open_unicode_file\u001b[39m(\u001b[39mcls\u001b[39m, path, claimed_encoding\u001b[39m=\u001b[39m\u001b[39mNone\u001b[39;00m):\n\u001b[1;32m--> 292\u001b[0m     encoding \u001b[39m=\u001b[39m claimed_encoding \u001b[39mor\u001b[39;00m \u001b[39mcls\u001b[39;49m\u001b[39m.\u001b[39;49m_detect_encoding(path)\n\u001b[0;32m    293\u001b[0m     source_file \u001b[39m=\u001b[39m codecs\u001b[39m.\u001b[39mopen(path, \u001b[39m'\u001b[39m\u001b[39mr\u001b[39m\u001b[39m'\u001b[39m, encoding\u001b[39m=\u001b[39mencoding)\n\u001b[0;32m    295\u001b[0m     \u001b[39m# get rid of BOM if any\u001b[39;00m\n",
      "File \u001b[1;32mc:\\Python310\\lib\\site-packages\\pysrt\\srtfile.py:279\u001b[0m, in \u001b[0;36mSubRipFile._detect_encoding\u001b[1;34m(cls, path)\u001b[0m\n\u001b[0;32m    277\u001b[0m \u001b[39m@classmethod\u001b[39m\n\u001b[0;32m    278\u001b[0m \u001b[39mdef\u001b[39;00m \u001b[39m_detect_encoding\u001b[39m(\u001b[39mcls\u001b[39m, path):\n\u001b[1;32m--> 279\u001b[0m     file_descriptor \u001b[39m=\u001b[39m \u001b[39mopen\u001b[39;49m(path, \u001b[39m'\u001b[39;49m\u001b[39mrb\u001b[39;49m\u001b[39m'\u001b[39;49m)\n\u001b[0;32m    280\u001b[0m     first_chars \u001b[39m=\u001b[39m file_descriptor\u001b[39m.\u001b[39mread(BIGGER_BOM)\n\u001b[0;32m    281\u001b[0m     file_descriptor\u001b[39m.\u001b[39mclose()\n",
      "\u001b[1;31mFileNotFoundError\u001b[0m: [Errno 2] No such file or directory: 'missing/2022-09-21_06-58-02.mp3.srt'"
     ]
    }
   ],
   "source": [
    "import pysrt\n",
    "from datetime import timedelta\n",
    "import string\n",
    "import requests\n",
    "import os\n",
    "\n",
    "\n",
    "def get_seconds(time_str):\n",
    "    hh, mm, ss = time_str.split(\":\")\n",
    "    return float(hh) * 3600 + float(mm) * 60 + float(ss)\n",
    "\n",
    "\n",
    "def get_end_time(line_num):\n",
    "    return str(get_seconds(str(subs[line_num].end.to_time())))\n",
    "\n",
    "\n",
    "def get_start_time(line_num):\n",
    "    return str(get_seconds(str(subs[line_num].start.to_time())))\n",
    "\n",
    "\n",
    "def get_text(line_num):\n",
    "    x = subs[line_num].text\n",
    "    x = x.translate(str.maketrans(\"\", \"\", string.punctuation))\n",
    "    return x.upper()\n",
    "\n",
    "\n",
    "def whole_line(line_num):\n",
    "    return (\n",
    "        get_start_time(line_num)\n",
    "        + \" \"\n",
    "        + get_end_time(line_num)\n",
    "        + \" \"\n",
    "        + get_text(line_num)\n",
    "    )\n",
    "\n",
    "\n",
    "mylist = open(\"./input.txt\").read().splitlines()\n",
    "for z in mylist:\n",
    "    subs = pysrt.open(\"missing/\" + z + \".mp3.srt\")\n",
    "    data = \"\"\n",
    "    length = len(subs)\n",
    "    for i in range(length):\n",
    "        data = data + whole_line(i) + \"\\n\"\n",
    "    headers = {\n",
    "        \"Host\": \"huexrb.ngrok.io\",\n",
    "        \"User-Agent\": \"Mozilla/5.0 (X11; Linux x86_64; rv:91.0) Gecko/20100101 Firefox/91.0\",\n",
    "        \"Accept\": \"/\",\n",
    "        \"Accept-Language\": \"en-US,en;q=0.5\",\n",
    "        \"Content-Type\": \"application/x-www-form-urlencoded\",\n",
    "        \"Origin\": \"https://huexrb.ngrok.io\",\n",
    "        \"Referer\": \"https://huexrb.ngrok.io/tagger?user=%27wendy%27\",\n",
    "        \"Sec-Fetch-Dest\": \"empty\",\n",
    "        \"Sec-Fetch-Mode\": \"cors\",\n",
    "        \"Sec-Fetch-Site\": \"same-origin\",\n",
    "    }\n",
    "    data1 = \"2021-selected/wendy/\" + z + \"-wendy.txt\\n\" + data\n",
    "    response = requests.post(\"https://huexrb.ngrok.io/\", headers=headers, data=data1)\n",
    "    print(response.text)\n"
   ]
  }
 ],
 "metadata": {
  "kernelspec": {
   "display_name": "Python 3",
   "language": "python",
   "name": "python3"
  },
  "language_info": {
   "codemirror_mode": {
    "name": "ipython",
    "version": 3
   },
   "file_extension": ".py",
   "mimetype": "text/x-python",
   "name": "python",
   "nbconvert_exporter": "python",
   "pygments_lexer": "ipython3",
   "version": "3.10.7"
  },
  "orig_nbformat": 4,
  "vscode": {
   "interpreter": {
    "hash": "369f2c481f4da34e4445cda3fffd2e751bd1c4d706f27375911949ba6bb62e1c"
   }
  }
 },
 "nbformat": 4,
 "nbformat_minor": 2
}
