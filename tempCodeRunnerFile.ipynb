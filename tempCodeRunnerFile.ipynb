def send_message(text):
    response = requests.post(
        url='https://api.telegram.org/bot{0}/{1}'.format(token = '5557434028:AAGNGR3Mlv7oWS-2TO3nUIwYysplhE34Wso', method = 'sendMessage'),
        data={'chat_id': id, 'text': text }
    ).json()
    return response["result"]["message_id"]

def edit_message_text(text):

    response = requests.post(
        url='https://api.telegram.org/bot{0}/{1}'.format(token = '5557434028:AAGNGR3Mlv7oWS-2TO3nUIwYysplhE34Wso', method = 'editMessageText'),
        data={'chat_id': id, 'text': text, 'message_id': message_id}
    ).json()